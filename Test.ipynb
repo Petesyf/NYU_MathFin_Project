{
 "cells": [
  {
   "cell_type": "code",
   "execution_count": 10,
   "outputs": [],
   "source": [
    "import pandas as pd\n",
    "from datetime import datetime\n",
    "from dateutil.relativedelta import relativedelta\n",
    "import numpy as np\n",
    "from sklearn.linear_model import LinearRegression"
   ],
   "metadata": {
    "collapsed": false
   }
  },
  {
   "cell_type": "markdown",
   "source": [
    "## Data Processing"
   ],
   "metadata": {
    "collapsed": false
   }
  },
  {
   "cell_type": "markdown",
   "source": [
    "#### Get Data From Yahoo Finance"
   ],
   "metadata": {
    "collapsed": false
   }
  },
  {
   "cell_type": "code",
   "execution_count": 11,
   "outputs": [],
   "source": [
    "# import yfinance as yf"
   ],
   "metadata": {
    "collapsed": false
   }
  },
  {
   "cell_type": "code",
   "execution_count": 12,
   "outputs": [],
   "source": [
    "# # get latest russell 1000 constituents\n",
    "# russell1000_info = pd.read_excel(io=\"Data/Russell_1000_Constituents_20221007.xlsx\", sheet_name=\"Holdings\", skiprows=range(7))\n",
    "# # get list of tickers\n",
    "# stocks_pool_list = list(russell1000_info.Ticker.values)\n",
    "# # get historical market data of current Russel 1000 constituents\n",
    "# stocks_pool_data = yf.Tickers(stocks_pool_list).history(start=\"2012-01-01\")[\"Close\"]\n",
    "#\n",
    "# # get historical market data of S&P500\n",
    "# sp500_data = pd.DataFrame(yf.Ticker(\"^GSPC\").history(start=\"2012-01-01\")[\"Close\"])\n",
    "# # rename S&P 500 data column\n",
    "# sp500_data.columns = [\"SP500\"]\n",
    "#\n",
    "# # merge two dataframes\n",
    "# raw_data = stocks_pool_data.join(sp500_data)\n",
    "#\n",
    "# # drop stocks with more than 1000 NaNs\n",
    "# raw_data = raw_data.dropna(axis=\"columns\", thresh=2500)"
   ],
   "metadata": {
    "collapsed": false
   }
  },
  {
   "cell_type": "code",
   "execution_count": 13,
   "outputs": [],
   "source": [
    "# # save stock pool data into csv\n",
    "# raw_data.to_csv(\"Data/Raw_Data_20221007.csv\")"
   ],
   "metadata": {
    "collapsed": false
   }
  },
  {
   "cell_type": "markdown",
   "source": [
    "#### Read Stock Pool and S&P 500 index data"
   ],
   "metadata": {
    "collapsed": false
   }
  },
  {
   "cell_type": "code",
   "execution_count": 14,
   "outputs": [],
   "source": [
    "# read raw data from file\n",
    "raw_data = pd.read_csv(\"Data/Raw_Data_20221007.csv\",index_col=0)"
   ],
   "metadata": {
    "collapsed": false
   }
  },
  {
   "cell_type": "markdown",
   "source": [
    "## Regression: Get Residuals"
   ],
   "metadata": {
    "collapsed": false
   }
  },
  {
   "cell_type": "markdown",
   "source": [
    "#### Set Parameters"
   ],
   "metadata": {
    "collapsed": false
   }
  },
  {
   "cell_type": "code",
   "execution_count": 15,
   "outputs": [],
   "source": [
    "# set rebalancing frequency: every month\n",
    "rebalance_freq_period = relativedelta(months=1)\n",
    "# set business day convention for rebalancing\n",
    "business_day_convention = \"Modified Following\"\n",
    "# training set length\n",
    "train_set_length_period = relativedelta(months=6)\n",
    "# set date range\n",
    "first_date = datetime.strptime(raw_data.index[0], \"%Y-%m-%d\")\n",
    "last_date = datetime.strptime(raw_data.index[-1], \"%Y-%m-%d\")"
   ],
   "metadata": {
    "collapsed": false
   }
  },
  {
   "cell_type": "markdown",
   "source": [
    "#### Calculate Residuals"
   ],
   "metadata": {
    "collapsed": false
   }
  },
  {
   "cell_type": "code",
   "execution_count": 16,
   "outputs": [],
   "source": [
    "# initialize date range\n",
    "train_start_date = first_date\n",
    "train_end_date = train_start_date + train_set_length_period - relativedelta(days=1)\n",
    "\n",
    "test_start_date = train_end_date + relativedelta(days=1)\n",
    "test_end_date = test_start_date + rebalance_freq_period"
   ],
   "metadata": {
    "collapsed": false
   }
  },
  {
   "cell_type": "code",
   "execution_count": 17,
   "outputs": [],
   "source": [
    "# traverse the data set\n",
    "while test_end_date < last_date:\n",
    "    # do regression\n",
    "    temp_train_data = raw_data.loc[train_start_date.__str__()[:10]:test_start_date.__str__()[:10],:]\n",
    "    # save the residuals\n",
    "    temp_residuals = pd.DataFrame(index=temp_train_data.index, columns = temp_train_data.columns.drop(\"SP500\"))\n",
    "    for ticker in temp_residuals.columns:\n",
    "        # get data\n",
    "        y_x = temp_train_data[[ticker, \"SP500\"]]\n",
    "        # drop nas\n",
    "        y_x = y_x.dropna(axis=\"index\", how=\"any\")\n",
    "        # rename columns\n",
    "        y_x.columns = [\"y\", \"x\"]\n",
    "        # whether there's sufficient trading days\n",
    "        if len(y_x.index) < len(temp_train_data)*0.9:\n",
    "            continue\n",
    "        else:\n",
    "            # calculate returns\n",
    "            y_x = np.log(y_x).diff().dropna(axis=\"index\", how=\"any\")\n",
    "            y = np.array(y_x[\"y\"])\n",
    "            x = np.array(y_x[\"x\"]).reshape(-1,1)\n",
    "            # do regression\n",
    "            reg = LinearRegression(fit_intercept=True).fit(x, y)\n",
    "            # calculate residual\n",
    "            y_x.loc[:,\"res\"] = np.subtract(y, (reg.intercept_ - reg.coef_[0] * x)[:,0])\n",
    "            # add residual to temp_residuals\n",
    "            temp_residuals.loc[y_x.index, ticker] = y_x.res\n",
    "    # drop nans in dataframe\n",
    "    temp_residuals = temp_residuals.dropna(axis=\"index\", how=\"all\")\n",
    "    temp_residuals = temp_residuals.dropna(axis=\"columns\", how=\"any\")\n",
    "    # calculate correlations\n",
    "    temp_residuals = temp_residuals.astype(float)\n",
    "    temp_corr_matrix = temp_residuals.corr()\n",
    "\n",
    "    # save the matrix to file\n",
    "    temp_corr_matrix.to_csv(\"Data/Corr_Mat/\"+train_start_date.__str__()[:10]+\".csv\")\n",
    "\n",
    "    # update dates\n",
    "    train_start_date += rebalance_freq_period\n",
    "    test_start_date += rebalance_freq_period\n",
    "    test_end_date += rebalance_freq_period"
   ],
   "metadata": {
    "collapsed": false
   }
  },
  {
   "cell_type": "code",
   "execution_count": 17,
   "outputs": [],
   "source": [],
   "metadata": {
    "collapsed": false
   }
  }
 ],
 "metadata": {
  "kernelspec": {
   "display_name": "Python 3",
   "language": "python",
   "name": "python3"
  },
  "language_info": {
   "codemirror_mode": {
    "name": "ipython",
    "version": 2
   },
   "file_extension": ".py",
   "mimetype": "text/x-python",
   "name": "python",
   "nbconvert_exporter": "python",
   "pygments_lexer": "ipython2",
   "version": "2.7.6"
  }
 },
 "nbformat": 4,
 "nbformat_minor": 0
}
