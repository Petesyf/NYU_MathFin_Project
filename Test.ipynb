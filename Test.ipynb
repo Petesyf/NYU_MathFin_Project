{
 "cells": [
  {
   "cell_type": "markdown",
   "source": [
    "## Graph"
   ],
   "metadata": {
    "collapsed": false
   }
  },
  {
   "cell_type": "code",
   "execution_count": 18,
   "outputs": [],
   "source": [
    "import pandas as pd"
   ],
   "metadata": {
    "collapsed": false
   }
  },
  {
   "cell_type": "code",
   "execution_count": 19,
   "outputs": [
    {
     "data": {
      "text/plain": "             A        AA       AAL       AAP      AAPL       ABC      ABMD  \\\nA     1.000000  0.850289  0.473590  0.662476  0.744241  0.682554  0.748424   \nAA    0.850289  1.000000  0.402455  0.636491  0.704683  0.656852  0.750036   \nAAL   0.473590  0.402455  1.000000  0.476614  0.383267  0.313391  0.339984   \nAAP   0.662476  0.636491  0.476614  1.000000  0.664428  0.510734  0.534033   \nAAPL  0.744241  0.704683  0.383267  0.664428  1.000000  0.545006  0.622398   \n...        ...       ...       ...       ...       ...       ...       ...   \nYUM   0.789369  0.718831  0.389943  0.690886  0.644802  0.585363  0.612064   \nZBH   0.828089  0.816482  0.461619  0.653289  0.701099  0.652285  0.737298   \nZBRA  0.792351  0.772823  0.331770  0.615800  0.644872  0.674706  0.676529   \nZG    0.444682  0.469305  0.347349  0.401131  0.382780  0.357837  0.416414   \nZION  0.775548  0.804726  0.477057  0.650033  0.714824  0.629058  0.670928   \n\n           ABT      ACGL      ACHC  ...       XOM       XPO      XRAY  \\\nA     0.732606  0.636345  0.436394  ...  0.810795  0.515362  0.866544   \nAA    0.732465  0.609271  0.359837  ...  0.858883  0.468912  0.860315   \nAAL   0.343650  0.405781  0.303906  ...  0.318058  0.293282  0.493161   \nAAP   0.608144  0.452484  0.381930  ...  0.642483  0.551955  0.719230   \nAAPL  0.605437  0.492783  0.383362  ...  0.640428  0.523857  0.745278   \n...        ...       ...       ...  ...       ...       ...       ...   \nYUM   0.696632  0.536143  0.300421  ...  0.720505  0.520265  0.739338   \nZBH   0.778389  0.583582  0.474640  ...  0.825622  0.522784  0.847557   \nZBRA  0.697096  0.623881  0.369488  ...  0.781808  0.476193  0.808782   \nZG    0.434513  0.324215  0.293900  ...  0.403613  0.229800  0.477973   \nZION  0.687037  0.627994  0.417912  ...  0.739419  0.462746  0.805210   \n\n           XYL         Y       YUM       ZBH      ZBRA        ZG      ZION  \nA     0.836897  0.593325  0.789369  0.828089  0.792351  0.444682  0.775548  \nAA    0.803154  0.602682  0.718831  0.816482  0.772823  0.469305  0.804726  \nAAL   0.393310  0.424004  0.389943  0.461619  0.331770  0.347349  0.477057  \nAAP   0.710401  0.440668  0.690886  0.653289  0.615800  0.401131  0.650033  \nAAPL  0.703029  0.513747  0.644802  0.701099  0.644872  0.382780  0.714824  \n...        ...       ...       ...       ...       ...       ...       ...  \nYUM   0.730547  0.500721  1.000000  0.718131  0.690017  0.414819  0.727233  \nZBH   0.766190  0.584485  0.718131  1.000000  0.763184  0.527856  0.723423  \nZBRA  0.743292  0.606962  0.690017  0.763184  1.000000  0.436885  0.689320  \nZG    0.414879  0.374246  0.414819  0.527856  0.436885  1.000000  0.495791  \nZION  0.749329  0.592523  0.727233  0.723423  0.689320  0.495791  1.000000  \n\n[741 rows x 741 columns]",
      "text/html": "<div>\n<style scoped>\n    .dataframe tbody tr th:only-of-type {\n        vertical-align: middle;\n    }\n\n    .dataframe tbody tr th {\n        vertical-align: top;\n    }\n\n    .dataframe thead th {\n        text-align: right;\n    }\n</style>\n<table border=\"1\" class=\"dataframe\">\n  <thead>\n    <tr style=\"text-align: right;\">\n      <th></th>\n      <th>A</th>\n      <th>AA</th>\n      <th>AAL</th>\n      <th>AAP</th>\n      <th>AAPL</th>\n      <th>ABC</th>\n      <th>ABMD</th>\n      <th>ABT</th>\n      <th>ACGL</th>\n      <th>ACHC</th>\n      <th>...</th>\n      <th>XOM</th>\n      <th>XPO</th>\n      <th>XRAY</th>\n      <th>XYL</th>\n      <th>Y</th>\n      <th>YUM</th>\n      <th>ZBH</th>\n      <th>ZBRA</th>\n      <th>ZG</th>\n      <th>ZION</th>\n    </tr>\n  </thead>\n  <tbody>\n    <tr>\n      <th>A</th>\n      <td>1.000000</td>\n      <td>0.850289</td>\n      <td>0.473590</td>\n      <td>0.662476</td>\n      <td>0.744241</td>\n      <td>0.682554</td>\n      <td>0.748424</td>\n      <td>0.732606</td>\n      <td>0.636345</td>\n      <td>0.436394</td>\n      <td>...</td>\n      <td>0.810795</td>\n      <td>0.515362</td>\n      <td>0.866544</td>\n      <td>0.836897</td>\n      <td>0.593325</td>\n      <td>0.789369</td>\n      <td>0.828089</td>\n      <td>0.792351</td>\n      <td>0.444682</td>\n      <td>0.775548</td>\n    </tr>\n    <tr>\n      <th>AA</th>\n      <td>0.850289</td>\n      <td>1.000000</td>\n      <td>0.402455</td>\n      <td>0.636491</td>\n      <td>0.704683</td>\n      <td>0.656852</td>\n      <td>0.750036</td>\n      <td>0.732465</td>\n      <td>0.609271</td>\n      <td>0.359837</td>\n      <td>...</td>\n      <td>0.858883</td>\n      <td>0.468912</td>\n      <td>0.860315</td>\n      <td>0.803154</td>\n      <td>0.602682</td>\n      <td>0.718831</td>\n      <td>0.816482</td>\n      <td>0.772823</td>\n      <td>0.469305</td>\n      <td>0.804726</td>\n    </tr>\n    <tr>\n      <th>AAL</th>\n      <td>0.473590</td>\n      <td>0.402455</td>\n      <td>1.000000</td>\n      <td>0.476614</td>\n      <td>0.383267</td>\n      <td>0.313391</td>\n      <td>0.339984</td>\n      <td>0.343650</td>\n      <td>0.405781</td>\n      <td>0.303906</td>\n      <td>...</td>\n      <td>0.318058</td>\n      <td>0.293282</td>\n      <td>0.493161</td>\n      <td>0.393310</td>\n      <td>0.424004</td>\n      <td>0.389943</td>\n      <td>0.461619</td>\n      <td>0.331770</td>\n      <td>0.347349</td>\n      <td>0.477057</td>\n    </tr>\n    <tr>\n      <th>AAP</th>\n      <td>0.662476</td>\n      <td>0.636491</td>\n      <td>0.476614</td>\n      <td>1.000000</td>\n      <td>0.664428</td>\n      <td>0.510734</td>\n      <td>0.534033</td>\n      <td>0.608144</td>\n      <td>0.452484</td>\n      <td>0.381930</td>\n      <td>...</td>\n      <td>0.642483</td>\n      <td>0.551955</td>\n      <td>0.719230</td>\n      <td>0.710401</td>\n      <td>0.440668</td>\n      <td>0.690886</td>\n      <td>0.653289</td>\n      <td>0.615800</td>\n      <td>0.401131</td>\n      <td>0.650033</td>\n    </tr>\n    <tr>\n      <th>AAPL</th>\n      <td>0.744241</td>\n      <td>0.704683</td>\n      <td>0.383267</td>\n      <td>0.664428</td>\n      <td>1.000000</td>\n      <td>0.545006</td>\n      <td>0.622398</td>\n      <td>0.605437</td>\n      <td>0.492783</td>\n      <td>0.383362</td>\n      <td>...</td>\n      <td>0.640428</td>\n      <td>0.523857</td>\n      <td>0.745278</td>\n      <td>0.703029</td>\n      <td>0.513747</td>\n      <td>0.644802</td>\n      <td>0.701099</td>\n      <td>0.644872</td>\n      <td>0.382780</td>\n      <td>0.714824</td>\n    </tr>\n    <tr>\n      <th>...</th>\n      <td>...</td>\n      <td>...</td>\n      <td>...</td>\n      <td>...</td>\n      <td>...</td>\n      <td>...</td>\n      <td>...</td>\n      <td>...</td>\n      <td>...</td>\n      <td>...</td>\n      <td>...</td>\n      <td>...</td>\n      <td>...</td>\n      <td>...</td>\n      <td>...</td>\n      <td>...</td>\n      <td>...</td>\n      <td>...</td>\n      <td>...</td>\n      <td>...</td>\n      <td>...</td>\n    </tr>\n    <tr>\n      <th>YUM</th>\n      <td>0.789369</td>\n      <td>0.718831</td>\n      <td>0.389943</td>\n      <td>0.690886</td>\n      <td>0.644802</td>\n      <td>0.585363</td>\n      <td>0.612064</td>\n      <td>0.696632</td>\n      <td>0.536143</td>\n      <td>0.300421</td>\n      <td>...</td>\n      <td>0.720505</td>\n      <td>0.520265</td>\n      <td>0.739338</td>\n      <td>0.730547</td>\n      <td>0.500721</td>\n      <td>1.000000</td>\n      <td>0.718131</td>\n      <td>0.690017</td>\n      <td>0.414819</td>\n      <td>0.727233</td>\n    </tr>\n    <tr>\n      <th>ZBH</th>\n      <td>0.828089</td>\n      <td>0.816482</td>\n      <td>0.461619</td>\n      <td>0.653289</td>\n      <td>0.701099</td>\n      <td>0.652285</td>\n      <td>0.737298</td>\n      <td>0.778389</td>\n      <td>0.583582</td>\n      <td>0.474640</td>\n      <td>...</td>\n      <td>0.825622</td>\n      <td>0.522784</td>\n      <td>0.847557</td>\n      <td>0.766190</td>\n      <td>0.584485</td>\n      <td>0.718131</td>\n      <td>1.000000</td>\n      <td>0.763184</td>\n      <td>0.527856</td>\n      <td>0.723423</td>\n    </tr>\n    <tr>\n      <th>ZBRA</th>\n      <td>0.792351</td>\n      <td>0.772823</td>\n      <td>0.331770</td>\n      <td>0.615800</td>\n      <td>0.644872</td>\n      <td>0.674706</td>\n      <td>0.676529</td>\n      <td>0.697096</td>\n      <td>0.623881</td>\n      <td>0.369488</td>\n      <td>...</td>\n      <td>0.781808</td>\n      <td>0.476193</td>\n      <td>0.808782</td>\n      <td>0.743292</td>\n      <td>0.606962</td>\n      <td>0.690017</td>\n      <td>0.763184</td>\n      <td>1.000000</td>\n      <td>0.436885</td>\n      <td>0.689320</td>\n    </tr>\n    <tr>\n      <th>ZG</th>\n      <td>0.444682</td>\n      <td>0.469305</td>\n      <td>0.347349</td>\n      <td>0.401131</td>\n      <td>0.382780</td>\n      <td>0.357837</td>\n      <td>0.416414</td>\n      <td>0.434513</td>\n      <td>0.324215</td>\n      <td>0.293900</td>\n      <td>...</td>\n      <td>0.403613</td>\n      <td>0.229800</td>\n      <td>0.477973</td>\n      <td>0.414879</td>\n      <td>0.374246</td>\n      <td>0.414819</td>\n      <td>0.527856</td>\n      <td>0.436885</td>\n      <td>1.000000</td>\n      <td>0.495791</td>\n    </tr>\n    <tr>\n      <th>ZION</th>\n      <td>0.775548</td>\n      <td>0.804726</td>\n      <td>0.477057</td>\n      <td>0.650033</td>\n      <td>0.714824</td>\n      <td>0.629058</td>\n      <td>0.670928</td>\n      <td>0.687037</td>\n      <td>0.627994</td>\n      <td>0.417912</td>\n      <td>...</td>\n      <td>0.739419</td>\n      <td>0.462746</td>\n      <td>0.805210</td>\n      <td>0.749329</td>\n      <td>0.592523</td>\n      <td>0.727233</td>\n      <td>0.723423</td>\n      <td>0.689320</td>\n      <td>0.495791</td>\n      <td>1.000000</td>\n    </tr>\n  </tbody>\n</table>\n<p>741 rows × 741 columns</p>\n</div>"
     },
     "execution_count": 19,
     "metadata": {},
     "output_type": "execute_result"
    }
   ],
   "source": [
    "corr_mat = pd.read_csv(\"Data/Corr_Mat/2012-01-03.csv\", index_col=0)\n",
    "corr_mat"
   ],
   "metadata": {
    "collapsed": false
   }
  },
  {
   "cell_type": "code",
   "execution_count": null,
   "outputs": [],
   "source": [],
   "metadata": {
    "collapsed": false
   }
  }
 ],
 "metadata": {
  "kernelspec": {
   "display_name": "Python 3",
   "language": "python",
   "name": "python3"
  },
  "language_info": {
   "codemirror_mode": {
    "name": "ipython",
    "version": 2
   },
   "file_extension": ".py",
   "mimetype": "text/x-python",
   "name": "python",
   "nbconvert_exporter": "python",
   "pygments_lexer": "ipython2",
   "version": "2.7.6"
  }
 },
 "nbformat": 4,
 "nbformat_minor": 0
}
