{
 "cells": [
  {
   "cell_type": "code",
   "execution_count": 1,
   "outputs": [],
   "source": [
    "import os\n",
    "import pandas as pd\n",
    "import numpy as np\n",
    "from communities.algorithms import louvain_method\n",
    "import time\n",
    "import yfinance as yf\n",
    "from datetime import datetime\n",
    "from dateutil.relativedelta import relativedelta\n",
    "from sklearn.linear_model import LinearRegression\n",
    "import threading\n",
    "\n",
    "# get correlation matrix file names\n",
    "data_folder = \"Data/Corr_Mat\"\n",
    "output_folder = \"Data/Ticker_List\""
   ],
   "metadata": {
    "collapsed": false
   }
  },
  {
   "cell_type": "markdown",
   "source": [
    "## Download Data"
   ],
   "metadata": {
    "collapsed": false
   }
  },
  {
   "cell_type": "code",
   "execution_count": 2,
   "outputs": [],
   "source": [
    "def download_stock_pool_data():\n",
    "    # get data directory path\n",
    "    cur_path = os.path.dirname(__file__)\n",
    "    data_directory_path = os.path.relpath('../Data', cur_path)\n",
    "\n",
    "    # get latest russell 1000 constituents\n",
    "    russell1000_info = pd.read_excel(\n",
    "        io=data_directory_path + \"\\\\Russell_1000_Constituents_20221007.xlsx\",\n",
    "        sheet_name=\"Holdings\",\n",
    "        skiprows=range(7))\n",
    "    # get list of tickers\n",
    "    stocks_pool_list = list(russell1000_info.Ticker.values)\n",
    "    # get historical market data of current Russel 1000 constituents\n",
    "    stocks_pool_data = yf.Tickers(stocks_pool_list).history(start=\"2012-01-01\")[\"Close\"]\n",
    "\n",
    "    # get historical market data of S&P500\n",
    "    sp500_data = pd.DataFrame(yf.Ticker(\"^GSPC\").history(start=\"2012-01-01\")[\"Close\"])\n",
    "    # rename S&P 500 data column\n",
    "    sp500_data.columns = [\"SP500\"]\n",
    "\n",
    "    # merge two dataframes\n",
    "    raw_data = stocks_pool_data.join(sp500_data)\n",
    "\n",
    "    # drop stocks with more than 1000 NaNs\n",
    "    raw_data = raw_data.dropna(axis=\"columns\", thresh=2500)\n",
    "\n",
    "    # save stock pool data into csv\n",
    "    raw_data.to_csv(data_directory_path + \"\\\\Raw_Data_20221007.csv\")\n",
    "\n",
    "# # get stock pool data from yahoo finance\n",
    "# download_stock_pool_data()"
   ],
   "metadata": {
    "collapsed": false
   }
  },
  {
   "cell_type": "markdown",
   "source": [
    "## Generate Correlation Matrices"
   ],
   "metadata": {
    "collapsed": false
   }
  },
  {
   "cell_type": "code",
   "execution_count": 3,
   "outputs": [],
   "source": [
    "def generate_residual_matrices():\n",
    "    # get data directory path\n",
    "    cur_path = os.path.dirname(__file__)\n",
    "    data_directory_path = os.path.relpath('../Data', cur_path)\n",
    "    # read data from file\n",
    "    raw_data = pd.read_csv(data_directory_path + \"\\\\Raw_Data_20221007.csv\", index_col=0)\n",
    "\n",
    "    # set rebalancing frequency: every month\n",
    "    rebalance_freq_period = relativedelta(months=1)\n",
    "    # set business day convention for rebalancing\n",
    "    business_day_convention = \"Modified Following\"\n",
    "    # training set length\n",
    "    train_set_length_period = relativedelta(months=6)\n",
    "    # set date range\n",
    "    first_date = datetime.strptime(raw_data.index[0], \"%Y-%m-%d\")\n",
    "    last_date = datetime.strptime(raw_data.index[-1], \"%Y-%m-%d\")\n",
    "\n",
    "    # initialize date range\n",
    "    train_start_date = first_date\n",
    "    train_end_date = train_start_date + train_set_length_period - relativedelta(days=1)\n",
    "\n",
    "    test_start_date = train_end_date + relativedelta(days=1)\n",
    "    test_end_date = test_start_date + rebalance_freq_period\n",
    "\n",
    "    # traverse the data set\n",
    "    while test_end_date < last_date:\n",
    "        # do regression\n",
    "        temp_train_data = raw_data.loc[train_start_date.__str__()[:10]:test_start_date.__str__()[:10], :]\n",
    "        # save the residuals\n",
    "        temp_residuals = pd.DataFrame(index=temp_train_data.index, columns=temp_train_data.columns.drop(\"SP500\"))\n",
    "        for ticker in temp_residuals.columns:\n",
    "            # get data\n",
    "            y_x = temp_train_data[[ticker, \"SP500\"]]\n",
    "            # drop nas\n",
    "            y_x = y_x.dropna(axis=\"index\", how=\"any\")\n",
    "            # rename columns\n",
    "            y_x.columns = [\"y\", \"x\"]\n",
    "            # whether there's sufficient trading days\n",
    "            if len(y_x.index) < len(temp_train_data) * 0.9:\n",
    "                continue\n",
    "            else:\n",
    "                # calculate returns\n",
    "                y_x = np.log(y_x).diff().dropna(axis=\"index\", how=\"any\")\n",
    "                y = np.array(y_x[\"y\"])\n",
    "                x = np.array(y_x[\"x\"]).reshape(-1, 1)\n",
    "                # do regression\n",
    "                reg = LinearRegression(fit_intercept=True).fit(x, y)\n",
    "                # calculate residual\n",
    "                y_x.loc[:, \"res\"] = np.subtract(y, (reg.intercept_ - reg.coef_[0] * x)[:, 0])\n",
    "                # add residual to temp_residuals\n",
    "                temp_residuals.loc[y_x.index, ticker] = y_x.res\n",
    "        # drop nans in dataframe\n",
    "        temp_residuals = temp_residuals.dropna(axis=\"index\", how=\"all\")\n",
    "        temp_residuals = temp_residuals.dropna(axis=\"columns\", how=\"any\")\n",
    "        # calculate correlations\n",
    "        temp_residuals = temp_residuals.astype(float)\n",
    "        temp_corr_matrix = temp_residuals.corr()\n",
    "\n",
    "        # save the matrix to file\n",
    "        temp_corr_matrix.to_csv(data_directory_path + \"\\\\Corr_Mat\\\\\" + train_start_date.__str__()[:10] + \".csv\")\n",
    "\n",
    "        # update dates\n",
    "        train_start_date += rebalance_freq_period\n",
    "        test_start_date += rebalance_freq_period\n",
    "        test_end_date += rebalance_freq_period\n",
    "\n",
    "# # calculate correlation between residuals of stocks during 6M period\n",
    "# generate_residual_matrices()"
   ],
   "metadata": {
    "collapsed": false
   }
  },
  {
   "cell_type": "markdown",
   "source": [
    "## Split Graph Into Communities"
   ],
   "metadata": {
    "collapsed": false
   }
  },
  {
   "cell_type": "code",
   "execution_count": 4,
   "outputs": [],
   "source": [
    "def get_communities(file_name:str, input_folder:str = data_folder):\n",
    "    print(file_name)\n",
    "    # get correlation matrix\n",
    "    corr_mat = pd.read_csv(input_folder+\"/\"+file_name, index_col=0)\n",
    "    # convert to adjacency matrix\n",
    "    adj_mat = np.abs(corr_mat - np.diag(np.diag(corr_mat)))\n",
    "    # using Louvain method to split the graph into 20 communities\n",
    "    communities, _ = louvain_method(adj_mat.values, 20)\n",
    "    # get ticker list of each community\n",
    "    cluster_list = []\n",
    "    for community in communities:\n",
    "        cluster = list(community)\n",
    "        cluster_list.append(adj_mat.columns[cluster])\n",
    "    # save the list to txt\n",
    "    global output_folder\n",
    "    with open(output_folder + \"/\"+file_name.replace(\".csv\",\".txt\"), 'w') as f:\n",
    "        for cluster in cluster_list:\n",
    "            f.write(str(list(cluster)) + \"\\n\")"
   ],
   "metadata": {
    "collapsed": false
   }
  },
  {
   "cell_type": "code",
   "execution_count": 5,
   "outputs": [],
   "source": [
    "class MyThread(threading.Thread):\n",
    "\n",
    "    def __init__(self, func, arg):\n",
    "        super().__init__()\n",
    "        self.func = func\n",
    "        self.arg = arg\n",
    "\n",
    "    def run(self):\n",
    "        self.func(*self.arg)"
   ],
   "metadata": {
    "collapsed": false
   }
  },
  {
   "cell_type": "code",
   "execution_count": 6,
   "outputs": [],
   "source": [
    "def get_all_communities(file_list:list[str] = os.listdir(data_folder), input_folder:str = data_folder, thread_num:int = 8):\n",
    "    # create 8 threads\n",
    "    for i in range(0, len(file_list), thread_num):\n",
    "        thread_list = []\n",
    "        print(\"Iteration {} start, current time = {}\".format(i//8+1, datetime.now()))\n",
    "        for j in range(thread_num):\n",
    "            file_name = file_list[i + j]\n",
    "            thread = MyThread(get_communities, (file_name, input_folder))\n",
    "            thread.start()\n",
    "            thread_list.append(thread)\n",
    "        for thread in thread_list:\n",
    "            thread.join()\n",
    "\n",
    "# generate clusters of tickers and save them to txt file\n",
    "# file_name_list = os.listdir(data_folder)\n",
    "# get_all_communities(file_name_list, data_folder, 8)"
   ],
   "metadata": {
    "collapsed": false
   }
  },
  {
   "cell_type": "markdown",
   "source": [
    "## Get Centroids of Clusters"
   ],
   "metadata": {
    "collapsed": false
   }
  },
  {
   "cell_type": "code",
   "execution_count": 13,
   "outputs": [
    {
     "name": "stderr",
     "output_type": "stream",
     "text": [
      "C:\\Users\\77026\\AppData\\Local\\Programs\\Python\\Python39\\lib\\site-packages\\pandas\\core\\internals\\blocks.py:937: VisibleDeprecationWarning: Creating an ndarray from ragged nested sequences (which is a list-or-tuple of lists-or-tuples-or ndarrays with different lengths or shapes) is deprecated. If you meant to do this, you must specify 'dtype=object' when creating the ndarray.\n",
      "  arr_value = np.asarray(value)\n"
     ]
    }
   ],
   "source": [
    "def unwrap_list_from_str(str_list:str)->list[str]:\n",
    "    return str_list.replace(\"\\'\",\"\").replace(\"[\",\"\").replace(\"]\",\"\").replace(\"\\n\",\"\").replace(\" \", \"\").split(\",\")\n",
    "\n",
    "def get_tickers_of_clusters():\n",
    "    # read clusters from file\n",
    "    file_name_list =os.listdir(output_folder)\n",
    "    df_cluster_data = pd.DataFrame(columns=[\"cluster_{}\".format(i) for i in range(20)])\n",
    "    for file_name in file_name_list:\n",
    "        # read string from file\n",
    "        with open(output_folder+\"/\"+file_name, \"r\") as f:\n",
    "            list_str_data = f.readlines()\n",
    "        list_data = []\n",
    "        for str_data in list_str_data:\n",
    "            list_data.append(unwrap_list_from_str(str_data))\n",
    "        df_cluster_data.loc[file_name[:10],:] = list_data\n",
    "    return df_cluster_data\n",
    "\n",
    "# # save clusters as a dataframe\n",
    "# df_cluster_data = get_tickers_of_clusters()\n",
    "# # save to local\n",
    "# df_cluster_data.to_csv(\"Data/Stock_Clusters.csv\")"
   ],
   "metadata": {
    "collapsed": false
   }
  },
  {
   "cell_type": "code",
   "execution_count": 20,
   "outputs": [
    {
     "data": {
      "text/plain": "                                                    cluster_0  \\\n2012-07-03  [A, PEGA, ABMD, ACN, ADBE, ADI, PKG, PKI, ADSK...   \n2012-08-03  [A, AA, PCAR, AAP, AAPL, PEGA, ACN, ADBE, ADI,...   \n2012-09-03  [A, AA, PCAR, PEGA, ACM, ACN, ADBE, ADI, PH, A...   \n2012-10-03  [A, AA, PCAR, AAPL, PEGA, ACM, ACN, ADBE, ADI,...   \n2012-11-03  [A, AA, PCAR, PDCE, ACM, ACN, ADBE, ADI, PFG, ...   \n...                                                       ...   \n2022-05-03  [A, ORCL, ORLY, ABT, PANW, ACN, ADBE, ADI, PAY...   \n2022-06-03                                                [A]   \n2022-07-03  [A, ORCL, AAL, AAPL, ABMD, PANW, ADBE, ADI, AD...   \n2022-08-03                                           [A, ABT]   \n2022-09-03                     [A, AME, ABT, ADBE, ADSK, APD]   \n\n                                                    cluster_1  \\\n2012-07-03  [AA, PDCE, PFG, ACM, PH, ADM, PLUG, AGCO, AGO,...   \n2012-08-03  [AAL, ACGL, ACHC, PFG, PGR, AFG, AFL, PNC, PNF...   \n2012-09-03  [PB, AAL, ACGL, ACHC, PFG, PGR, AFG, AFL, PNC,...   \n2012-10-03  [AAL, PB, PEAK, ACGL, ACHC, PENN, PFG, PHM, AF...   \n2012-11-03  [AAL, AAP, AAPL, PEAK, ACHC, PENN, PHM, PII, P...   \n...                                                       ...   \n2022-05-03                                               [AA]   \n2022-06-03                                               [AA]   \n2022-07-03  [AA, ORI, OSK, OVV, OXY, OZK, PACW, PAG, PARA,...   \n2022-08-03                                               [AA]   \n2022-09-03  [AA, SWN, CHRW, OVV, OXY, ACM, CLF, CLH, CLR, ...   \n\n                                                    cluster_2  \\\n2012-07-03  [AAL, FDX, EXP, DAL, UAL, LUV, ASH, CPA, DHI, ...   \n2012-08-03  [PCG, PEG, ABC, ABT, PEP, PFE, PG, ADM, ADP, A...   \n2012-09-03  [AAP, AAPL, PENN, PHM, PII, POOL, PPG, ALB, PV...   \n2012-10-03  [PARA, AAP, TJX, TNL, LOW, TRIP, PII, LSTR, TS...   \n2012-11-03  [ABC, ABMD, ABT, ACGL, PCG, PEG, PEP, PFE, ADM...   \n...                                                       ...   \n2022-05-03  [AAL, PH, PII, AL, ALK, PPC, PPG, PVH, APTV, A...   \n2022-06-03                                         [ALK, AAL]   \n2022-07-03  [ORLY, AAP, PAYX, PEAK, AEE, AEP, AES, PEG, PE...   \n2022-08-03  [ALK, AVY, AAL, AXP, EPR, BWA, CSL, CLH, CACC,...   \n2022-09-03  [AAL, AL, ALK, AMG, APO, APTV, AXP, BA, BBWI, ...   \n\n                                                    cluster_3  \\\n2012-07-03  [AAP, AAPL, PENN, PHM, PII, AGNC, POOL, AIG, P...   \n2012-08-03  [PEAK, ABMD, PENN, PHM, PKG, PLD, PLUG, AGNC, ...   \n2012-09-03  [PCG, PEAK, ABC, ABMD, ABT, PEG, PEP, PFE, PG,...   \n2012-10-03  [PAYX, PCG, ABC, ABMD, ABT, PEG, PEP, PFE, PG,...   \n2012-11-03  [PAYX, CIEN, LKQ, PEGA, FTNT, PNR, CPRI, ALGN,...   \n...                                                       ...   \n2022-05-03                                    [AOS, AAP, AZO]   \n2022-06-03               [AAP, CRI, GPC, DLTR, AZO, BBY, AOS]   \n2022-07-03                                              [ABC]   \n2022-08-03                                   [AAP, DLTR, AZO]   \n2022-09-03                         [AAP, AZO, BBY, AOS, EXPD]   \n\n                                                    cluster_4  \\\n2012-07-03  [PCG, PEAK, PEG, ABC, PEP, ABT, PFE, PG, ADP, ...   \n2012-08-03  [PDCE, TMUS, CLR, ACM, CMCSA, TRGP, LUMN, COHR...   \n2012-09-03  [ALL, AXS, BWXT, BYD, AON, CB, APD, CBRE, CCL,...   \n2012-10-03  [PDCE, CLF, CLR, CME, GE, COO, COP, AIZ, HAL, ...   \n2012-11-03  [CHE, FISV, LH, TNL, CNC, POST, ALNY, MASI, MC...   \n...                                                       ...   \n2022-05-03                                             [AAPL]   \n2022-06-03                                             [AAPL]   \n2022-07-03                                              [ABT]   \n2022-08-03  [AAPL, ACN, ADBE, ADI, ADP, ADSK, AKAM, ALGN, ...   \n2022-09-03                                   [ACN, AAPL, ADP]   \n\n                                                    cluster_5  \\\n2012-07-03  [ACGL, ACHC, PGR, PNC, AFG, PNR, ALK, ALL, AMG...   \n2012-08-03  [CINF, CLX, CPA, AJG, HAS, RE, AON, MMC, AXS, ...   \n2012-09-03                                    [AMP, BG, AKAM]   \n2012-10-03                                             [AVGO]   \n2012-11-03                                  [AWI, BLDR, CPRT]   \n...                                                       ...   \n2022-05-03                                              [ABC]   \n2022-06-03                                              [ABC]   \n2022-07-03                                             [ACGL]   \n2022-08-03                                        [ACHC, ABC]   \n2022-09-03                                              [ABC]   \n\n                                                    cluster_6  \\\n2012-07-03  [BALL, RGEN, GGG, LSTR, DD, HRB, CCK, MORN, SL...   \n2012-08-03                                               [AN]   \n2012-09-03                                             [ALGN]   \n2012-10-03                                              [AVY]   \n2012-11-03  [CHH, AXON, NEU, CTRA, CMCSA, EXPE, BKNG, COLM...   \n...                                                       ...   \n2022-05-03                                             [ABMD]   \n2022-06-03  [ORCL, ABMD, PANW, PARA, ADBE, ADI, ADSK, PEGA...   \n2022-07-03                                             [ACHC]   \n2022-08-03                                             [ABMD]   \n2022-09-03  [FFIV, ABMD, FSLR, AKAM, PKI, ALGN, ALNY, CRL,...   \n\n                                                    cluster_7  \\\n2012-07-03  [CI, CRL, UNH, CTAS, AMT, APO, VRTX, HUM, BA, ...   \n2012-08-03                                              [AOS]   \n2012-09-03                                             [ALNY]   \n2012-10-03                                              [AWI]   \n2012-11-03                                              [AXP]   \n...                                                       ...   \n2022-05-03  [ORI, OSK, OVV, OXY, OZK, PACW, ACGL, PAG, PAR...   \n2022-06-03                                    [ACN, ADP, ABT]   \n2022-07-03                                              [ACM]   \n2022-08-03  [ORI, OVV, OXY, ACGL, PB, PCG, PDCE, AFG, AFL,...   \n2022-09-03  [L, FHN, ACGL, CINF, CMA, AFG, AFL, CNA, PFG, ...   \n\n                                                    cluster_8  \\\n2012-07-03                                             [AMZN]   \n2012-08-03                                              [AVY]   \n2012-09-03                                   [DLB, AMAT, AME]   \n2012-10-03                                       [AXON, CASY]   \n2012-11-03                     [BR, FICO, AXS, CINF, STE, CB]   \n...                                                       ...   \n2022-05-03                                             [ACHC]   \n2022-06-03  [ORI, OSK, OZK, PACW, ACGL, PAG, PB, PCAR, PCG...   \n2022-07-03                                              [ACN]   \n2022-08-03                                              [ACM]   \n2022-09-03                                             [ACHC]   \n\n                                                    cluster_9  \\\n2012-07-03                                               [AN]   \n2012-08-03                                              [AWI]   \n2012-09-03  [FISV, FLT, AMGN, UTHR, MRCY, DISH, MTG, BAH, ...   \n2012-10-03                                              [AXP]   \n2012-11-03  [PAG, PARA, CME, CMG, TPR, LULU, GME, TTEK, M,...   \n...                                                       ...   \n2022-05-03                                              [ACM]   \n2022-06-03                                             [ACHC]   \n2022-07-03                                              [ADP]   \n2022-08-03                                   [APA, ADM, AGCO]   \n2022-09-03  [AWI, AMAT, AMD, AYI, AZPN, ADI, APH, ARW, AVG...   \n\n                                                   cluster_10  \\\n2012-07-03                                             [ANSS]   \n2012-08-03                                              [AZO]   \n2012-09-03                                       [AMZN, BKNG]   \n2012-10-03  [FICO, BSX, AXS, HCA, CB, EFX, GILD, IPG, MMC,...   \n2012-11-03                                         [NYT, BBY]   \n...                                                       ...   \n2022-05-03                                              [ADM]   \n2022-06-03                                              [ACM]   \n2022-07-03                                             [AGNC]   \n2022-08-03  [ORLY, PAYX, PEAK, AEE, AEP, AES, PEG, PEP, PF...   \n2022-09-03  [ORI, ORLY, PAYX, PEAK, AEE, AEP, AES, PEG, PE...   \n\n                                                   cluster_11  \\\n2012-07-03                                              [AOS]   \n2012-08-03                                        [BALL, BIO]   \n2012-09-03                                             [ANSS]   \n2012-10-03                                 [SLGN, CHRW, AZPN]   \n2012-11-03         [TFC, PB, FNB, SBNY, CBSH, CFR, BOH, BOKF]   \n...                                                       ...   \n2022-05-03  [PCG, PEAK, AEE, AEP, PEG, PEP, PFE, PG, PGR, ...   \n2022-06-03                                              [ADM]   \n2022-07-03                                              [AJG]   \n2022-08-03                                             [AGNC]   \n2022-09-03                                             [AGNC]   \n\n                                                   cluster_12  \\\n2012-07-03                                              [APD]   \n2012-08-03                                           [BG, CL]   \n2012-09-03                                   [CPRT, AWI, AOS]   \n2012-10-03  [FISV, LH, CL, CNC, CPB, MA, MDT, QGEN, UTHR, ...   \n2012-11-03                                        [BYD, CRUS]   \n...                                                       ...   \n2022-05-03                                              [AES]   \n2022-06-03  [ORLY, PAYX, PEAK, AEE, AEP, PEG, PEP, PFE, PG...   \n2022-07-03               [ALK, AMG, BA, BEN, BERY, APTV, CCL]   \n2022-08-03                                          [AYI, AN]   \n2022-09-03                                        [AVY, AMCR]   \n\n                                                cluster_13  \\\n2012-07-03                                           [AXP]   \n2012-08-03                               [INCY, BMY, MRCY]   \n2012-09-03  [EQT, PDCE, CLR, CTRA, DVN, APA, DE, BKR, EOG]   \n2012-10-03                            [CDNS, BG, DFS, MCO]   \n2012-11-03                                          [CACC]   \n...                                                    ...   \n2022-05-03                                          [AGCO]   \n2022-06-03                                          [AGCO]   \n2022-07-03                                          [AMCR]   \n2022-08-03                       [VNO, SLG, BXP, DEI, HPP]   \n2022-09-03                                            [AN]   \n\n                         cluster_14                     cluster_15  \\\n2012-07-03               [BAX, BIO]  [EEFT, BIIB, DGX, BMRN, CHDN]   \n2012-08-03                   [BRKR]                         [CASY]   \n2012-09-03                [CE, AVY]                    [CACC, AYI]   \n2012-10-03  [CLH, FBHS, EXPE, BKNG]                           [BR]   \n2012-11-03                   [CASY]                         [CHDN]   \n...                             ...                            ...   \n2022-05-03                   [AGNC]                           [AN]   \n2022-06-03                   [AGNC]                           [AN]   \n2022-07-03                    [AME]                           [AN]   \n2022-08-03                      [Y]                          [YUM]   \n2022-09-03                      [Y]                          [YUM]   \n\n                                                   cluster_16  \\\n2012-07-03                                         [BOKF, BK]   \n2012-08-03                                             [CHDN]   \n2012-09-03                                             [AZTA]   \n2012-10-03                                               [BX]   \n2012-11-03                                             [CHRW]   \n...                                                       ...   \n2022-05-03                                              [APA]   \n2022-06-03  [SWN, OVV, OXY, CLR, FMC, PDCE, LNG, TPL, COP,...   \n2022-07-03         [GPC, DLTR, AZO, BBY, AOS, CASY, NWL, DCI]   \n2022-08-03                                              [ZBH]   \n2022-09-03                                              [ZBH]   \n\n                          cluster_17  cluster_18           cluster_19  \n2012-07-03  [BLDR, CACC, CSGP, EXEL]       [CNC]               [DECK]  \n2012-08-03                     [CNC]      [CSGP]                [DGX]  \n2012-09-03    [BLDR, CLF, CHRW, BBY]       [CCK]                [CNC]  \n2012-10-03                    [CACC]  [CHH, CAR]  [ELV, CI, UNH, HUM]  \n2012-11-03             [GOOG, GOOGL]       [KMI]               [RGLD]  \n...                              ...         ...                  ...  \n2022-05-03                    [ATVI]        [ZG]               [ZION]  \n2022-06-03                    [ATVI]        [ZG]               [ZION]  \n2022-07-03                     [APA]       [APD]               [ATVI]  \n2022-08-03                    [ZBRA]        [ZG]               [ZION]  \n2022-09-03                    [ZBRA]        [ZG]               [ZION]  \n\n[123 rows x 20 columns]",
      "text/html": "<div>\n<style scoped>\n    .dataframe tbody tr th:only-of-type {\n        vertical-align: middle;\n    }\n\n    .dataframe tbody tr th {\n        vertical-align: top;\n    }\n\n    .dataframe thead th {\n        text-align: right;\n    }\n</style>\n<table border=\"1\" class=\"dataframe\">\n  <thead>\n    <tr style=\"text-align: right;\">\n      <th></th>\n      <th>cluster_0</th>\n      <th>cluster_1</th>\n      <th>cluster_2</th>\n      <th>cluster_3</th>\n      <th>cluster_4</th>\n      <th>cluster_5</th>\n      <th>cluster_6</th>\n      <th>cluster_7</th>\n      <th>cluster_8</th>\n      <th>cluster_9</th>\n      <th>cluster_10</th>\n      <th>cluster_11</th>\n      <th>cluster_12</th>\n      <th>cluster_13</th>\n      <th>cluster_14</th>\n      <th>cluster_15</th>\n      <th>cluster_16</th>\n      <th>cluster_17</th>\n      <th>cluster_18</th>\n      <th>cluster_19</th>\n    </tr>\n  </thead>\n  <tbody>\n    <tr>\n      <th>2012-07-03</th>\n      <td>[A, PEGA, ABMD, ACN, ADBE, ADI, PKG, PKI, ADSK...</td>\n      <td>[AA, PDCE, PFG, ACM, PH, ADM, PLUG, AGCO, AGO,...</td>\n      <td>[AAL, FDX, EXP, DAL, UAL, LUV, ASH, CPA, DHI, ...</td>\n      <td>[AAP, AAPL, PENN, PHM, PII, AGNC, POOL, AIG, P...</td>\n      <td>[PCG, PEAK, PEG, ABC, PEP, ABT, PFE, PG, ADP, ...</td>\n      <td>[ACGL, ACHC, PGR, PNC, AFG, PNR, ALK, ALL, AMG...</td>\n      <td>[BALL, RGEN, GGG, LSTR, DD, HRB, CCK, MORN, SL...</td>\n      <td>[CI, CRL, UNH, CTAS, AMT, APO, VRTX, HUM, BA, ...</td>\n      <td>[AMZN]</td>\n      <td>[AN]</td>\n      <td>[ANSS]</td>\n      <td>[AOS]</td>\n      <td>[APD]</td>\n      <td>[AXP]</td>\n      <td>[BAX, BIO]</td>\n      <td>[EEFT, BIIB, DGX, BMRN, CHDN]</td>\n      <td>[BOKF, BK]</td>\n      <td>[BLDR, CACC, CSGP, EXEL]</td>\n      <td>[CNC]</td>\n      <td>[DECK]</td>\n    </tr>\n    <tr>\n      <th>2012-08-03</th>\n      <td>[A, AA, PCAR, AAP, AAPL, PEGA, ACN, ADBE, ADI,...</td>\n      <td>[AAL, ACGL, ACHC, PFG, PGR, AFG, AFL, PNC, PNF...</td>\n      <td>[PCG, PEG, ABC, ABT, PEP, PFE, PG, ADM, ADP, A...</td>\n      <td>[PEAK, ABMD, PENN, PHM, PKG, PLD, PLUG, AGNC, ...</td>\n      <td>[PDCE, TMUS, CLR, ACM, CMCSA, TRGP, LUMN, COHR...</td>\n      <td>[CINF, CLX, CPA, AJG, HAS, RE, AON, MMC, AXS, ...</td>\n      <td>[AN]</td>\n      <td>[AOS]</td>\n      <td>[AVY]</td>\n      <td>[AWI]</td>\n      <td>[AZO]</td>\n      <td>[BALL, BIO]</td>\n      <td>[BG, CL]</td>\n      <td>[INCY, BMY, MRCY]</td>\n      <td>[BRKR]</td>\n      <td>[CASY]</td>\n      <td>[CHDN]</td>\n      <td>[CNC]</td>\n      <td>[CSGP]</td>\n      <td>[DGX]</td>\n    </tr>\n    <tr>\n      <th>2012-09-03</th>\n      <td>[A, AA, PCAR, PEGA, ACM, ACN, ADBE, ADI, PH, A...</td>\n      <td>[PB, AAL, ACGL, ACHC, PFG, PGR, AFG, AFL, PNC,...</td>\n      <td>[AAP, AAPL, PENN, PHM, PII, POOL, PPG, ALB, PV...</td>\n      <td>[PCG, PEAK, ABC, ABMD, ABT, PEG, PEP, PFE, PG,...</td>\n      <td>[ALL, AXS, BWXT, BYD, AON, CB, APD, CBRE, CCL,...</td>\n      <td>[AMP, BG, AKAM]</td>\n      <td>[ALGN]</td>\n      <td>[ALNY]</td>\n      <td>[DLB, AMAT, AME]</td>\n      <td>[FISV, FLT, AMGN, UTHR, MRCY, DISH, MTG, BAH, ...</td>\n      <td>[AMZN, BKNG]</td>\n      <td>[ANSS]</td>\n      <td>[CPRT, AWI, AOS]</td>\n      <td>[EQT, PDCE, CLR, CTRA, DVN, APA, DE, BKR, EOG]</td>\n      <td>[CE, AVY]</td>\n      <td>[CACC, AYI]</td>\n      <td>[AZTA]</td>\n      <td>[BLDR, CLF, CHRW, BBY]</td>\n      <td>[CCK]</td>\n      <td>[CNC]</td>\n    </tr>\n    <tr>\n      <th>2012-10-03</th>\n      <td>[A, AA, PCAR, AAPL, PEGA, ACM, ACN, ADBE, ADI,...</td>\n      <td>[AAL, PB, PEAK, ACGL, ACHC, PENN, PFG, PHM, AF...</td>\n      <td>[PARA, AAP, TJX, TNL, LOW, TRIP, PII, LSTR, TS...</td>\n      <td>[PAYX, PCG, ABC, ABMD, ABT, PEG, PEP, PFE, PG,...</td>\n      <td>[PDCE, CLF, CLR, CME, GE, COO, COP, AIZ, HAL, ...</td>\n      <td>[AVGO]</td>\n      <td>[AVY]</td>\n      <td>[AWI]</td>\n      <td>[AXON, CASY]</td>\n      <td>[AXP]</td>\n      <td>[FICO, BSX, AXS, HCA, CB, EFX, GILD, IPG, MMC,...</td>\n      <td>[SLGN, CHRW, AZPN]</td>\n      <td>[FISV, LH, CL, CNC, CPB, MA, MDT, QGEN, UTHR, ...</td>\n      <td>[CDNS, BG, DFS, MCO]</td>\n      <td>[CLH, FBHS, EXPE, BKNG]</td>\n      <td>[BR]</td>\n      <td>[BX]</td>\n      <td>[CACC]</td>\n      <td>[CHH, CAR]</td>\n      <td>[ELV, CI, UNH, HUM]</td>\n    </tr>\n    <tr>\n      <th>2012-11-03</th>\n      <td>[A, AA, PCAR, PDCE, ACM, ACN, ADBE, ADI, PFG, ...</td>\n      <td>[AAL, AAP, AAPL, PEAK, ACHC, PENN, PHM, PII, P...</td>\n      <td>[ABC, ABMD, ABT, ACGL, PCG, PEG, PEP, PFE, ADM...</td>\n      <td>[PAYX, CIEN, LKQ, PEGA, FTNT, PNR, CPRI, ALGN,...</td>\n      <td>[CHE, FISV, LH, TNL, CNC, POST, ALNY, MASI, MC...</td>\n      <td>[AWI, BLDR, CPRT]</td>\n      <td>[CHH, AXON, NEU, CTRA, CMCSA, EXPE, BKNG, COLM...</td>\n      <td>[AXP]</td>\n      <td>[BR, FICO, AXS, CINF, STE, CB]</td>\n      <td>[PAG, PARA, CME, CMG, TPR, LULU, GME, TTEK, M,...</td>\n      <td>[NYT, BBY]</td>\n      <td>[TFC, PB, FNB, SBNY, CBSH, CFR, BOH, BOKF]</td>\n      <td>[BYD, CRUS]</td>\n      <td>[CACC]</td>\n      <td>[CASY]</td>\n      <td>[CHDN]</td>\n      <td>[CHRW]</td>\n      <td>[GOOG, GOOGL]</td>\n      <td>[KMI]</td>\n      <td>[RGLD]</td>\n    </tr>\n    <tr>\n      <th>...</th>\n      <td>...</td>\n      <td>...</td>\n      <td>...</td>\n      <td>...</td>\n      <td>...</td>\n      <td>...</td>\n      <td>...</td>\n      <td>...</td>\n      <td>...</td>\n      <td>...</td>\n      <td>...</td>\n      <td>...</td>\n      <td>...</td>\n      <td>...</td>\n      <td>...</td>\n      <td>...</td>\n      <td>...</td>\n      <td>...</td>\n      <td>...</td>\n      <td>...</td>\n    </tr>\n    <tr>\n      <th>2022-05-03</th>\n      <td>[A, ORCL, ORLY, ABT, PANW, ACN, ADBE, ADI, PAY...</td>\n      <td>[AA]</td>\n      <td>[AAL, PH, PII, AL, ALK, PPC, PPG, PVH, APTV, A...</td>\n      <td>[AOS, AAP, AZO]</td>\n      <td>[AAPL]</td>\n      <td>[ABC]</td>\n      <td>[ABMD]</td>\n      <td>[ORI, OSK, OVV, OXY, OZK, PACW, ACGL, PAG, PAR...</td>\n      <td>[ACHC]</td>\n      <td>[ACM]</td>\n      <td>[ADM]</td>\n      <td>[PCG, PEAK, AEE, AEP, PEG, PEP, PFE, PG, PGR, ...</td>\n      <td>[AES]</td>\n      <td>[AGCO]</td>\n      <td>[AGNC]</td>\n      <td>[AN]</td>\n      <td>[APA]</td>\n      <td>[ATVI]</td>\n      <td>[ZG]</td>\n      <td>[ZION]</td>\n    </tr>\n    <tr>\n      <th>2022-06-03</th>\n      <td>[A]</td>\n      <td>[AA]</td>\n      <td>[ALK, AAL]</td>\n      <td>[AAP, CRI, GPC, DLTR, AZO, BBY, AOS]</td>\n      <td>[AAPL]</td>\n      <td>[ABC]</td>\n      <td>[ORCL, ABMD, PANW, PARA, ADBE, ADI, ADSK, PEGA...</td>\n      <td>[ACN, ADP, ABT]</td>\n      <td>[ORI, OSK, OZK, PACW, ACGL, PAG, PB, PCAR, PCG...</td>\n      <td>[ACHC]</td>\n      <td>[ACM]</td>\n      <td>[ADM]</td>\n      <td>[ORLY, PAYX, PEAK, AEE, AEP, PEG, PEP, PFE, PG...</td>\n      <td>[AGCO]</td>\n      <td>[AGNC]</td>\n      <td>[AN]</td>\n      <td>[SWN, OVV, OXY, CLR, FMC, PDCE, LNG, TPL, COP,...</td>\n      <td>[ATVI]</td>\n      <td>[ZG]</td>\n      <td>[ZION]</td>\n    </tr>\n    <tr>\n      <th>2022-07-03</th>\n      <td>[A, ORCL, AAL, AAPL, ABMD, PANW, ADBE, ADI, AD...</td>\n      <td>[AA, ORI, OSK, OVV, OXY, OZK, PACW, PAG, PARA,...</td>\n      <td>[ORLY, AAP, PAYX, PEAK, AEE, AEP, AES, PEG, PE...</td>\n      <td>[ABC]</td>\n      <td>[ABT]</td>\n      <td>[ACGL]</td>\n      <td>[ACHC]</td>\n      <td>[ACM]</td>\n      <td>[ACN]</td>\n      <td>[ADP]</td>\n      <td>[AGNC]</td>\n      <td>[AJG]</td>\n      <td>[ALK, AMG, BA, BEN, BERY, APTV, CCL]</td>\n      <td>[AMCR]</td>\n      <td>[AME]</td>\n      <td>[AN]</td>\n      <td>[GPC, DLTR, AZO, BBY, AOS, CASY, NWL, DCI]</td>\n      <td>[APA]</td>\n      <td>[APD]</td>\n      <td>[ATVI]</td>\n    </tr>\n    <tr>\n      <th>2022-08-03</th>\n      <td>[A, ABT]</td>\n      <td>[AA]</td>\n      <td>[ALK, AVY, AAL, AXP, EPR, BWA, CSL, CLH, CACC,...</td>\n      <td>[AAP, DLTR, AZO]</td>\n      <td>[AAPL, ACN, ADBE, ADI, ADP, ADSK, AKAM, ALGN, ...</td>\n      <td>[ACHC, ABC]</td>\n      <td>[ABMD]</td>\n      <td>[ORI, OVV, OXY, ACGL, PB, PCG, PDCE, AFG, AFL,...</td>\n      <td>[ACM]</td>\n      <td>[APA, ADM, AGCO]</td>\n      <td>[ORLY, PAYX, PEAK, AEE, AEP, AES, PEG, PEP, PF...</td>\n      <td>[AGNC]</td>\n      <td>[AYI, AN]</td>\n      <td>[VNO, SLG, BXP, DEI, HPP]</td>\n      <td>[Y]</td>\n      <td>[YUM]</td>\n      <td>[ZBH]</td>\n      <td>[ZBRA]</td>\n      <td>[ZG]</td>\n      <td>[ZION]</td>\n    </tr>\n    <tr>\n      <th>2022-09-03</th>\n      <td>[A, AME, ABT, ADBE, ADSK, APD]</td>\n      <td>[AA, SWN, CHRW, OVV, OXY, ACM, CLF, CLH, CLR, ...</td>\n      <td>[AAL, AL, ALK, AMG, APO, APTV, AXP, BA, BBWI, ...</td>\n      <td>[AAP, AZO, BBY, AOS, EXPD]</td>\n      <td>[ACN, AAPL, ADP]</td>\n      <td>[ABC]</td>\n      <td>[FFIV, ABMD, FSLR, AKAM, PKI, ALGN, ALNY, CRL,...</td>\n      <td>[L, FHN, ACGL, CINF, CMA, AFG, AFL, CNA, PFG, ...</td>\n      <td>[ACHC]</td>\n      <td>[AWI, AMAT, AMD, AYI, AZPN, ADI, APH, ARW, AVG...</td>\n      <td>[ORI, ORLY, PAYX, PEAK, AEE, AEP, AES, PEG, PE...</td>\n      <td>[AGNC]</td>\n      <td>[AVY, AMCR]</td>\n      <td>[AN]</td>\n      <td>[Y]</td>\n      <td>[YUM]</td>\n      <td>[ZBH]</td>\n      <td>[ZBRA]</td>\n      <td>[ZG]</td>\n      <td>[ZION]</td>\n    </tr>\n  </tbody>\n</table>\n<p>123 rows × 20 columns</p>\n</div>"
     },
     "execution_count": 20,
     "metadata": {},
     "output_type": "execute_result"
    }
   ],
   "source": [
    "def select_stock_from_clusters():\n",
    "    # read data from local\n",
    "    df_cluster_data = pd.read_csv(\"Data/Stock_Clusters.csv\",index_col=0)\n",
    "    # convert string to list\n",
    "    df_cluster_data = df_cluster_data.applymap(lambda x: unwrap_list_from_str(x))\n",
    "    # convert index to train_end_data\n",
    "    train_set_length_period = relativedelta(months=6)\n",
    "    df_cluster_data.index = df_cluster_data.index.map(lambda x: datetime.strptime(x, \"%Y-%m-%d\")+train_set_length_period)\n",
    "\n",
    "    # read stock price data from locals\n",
    "    performance_data = pd.read_csv(io=\"Data/Raw_Data_20221007.csv\", index_col=0)\n",
    "\n",
    "\n",
    "    return df_cluster_data\n",
    "\n",
    "select_stock_from_clusters()"
   ],
   "metadata": {
    "collapsed": false
   }
  },
  {
   "cell_type": "code",
   "execution_count": 22,
   "outputs": [
    {
     "data": {
      "text/plain": "                     A         AA        AAL         AAP        AAPL  \\\nDate                                                                   \n2012-01-03   23.816809  20.847895   4.826837   66.313416   12.629211   \n2012-01-04   23.627478  21.344809   4.741990   67.868080   12.697083   \n2012-01-05   24.156307  21.141527   5.156795   68.299934   12.838050   \n2012-01-06   24.417461  20.689783   5.279352   68.616646   12.972254   \n2012-01-09   25.057272  21.299643   5.392481   68.597466   12.951676   \n...                ...        ...        ...         ...         ...   \n2022-10-03  126.379997  37.389999  11.920000  163.369995  142.449997   \n2022-10-04  131.410004  40.230000  12.950000  167.830002  146.100006   \n2022-10-05  132.639999  40.080002  12.870000  167.639999  146.399994   \n2022-10-06  132.179993  39.849998  12.730000  165.139999  145.429993   \n2022-10-07  127.440002  39.009998  12.180000  161.320007  140.089996   \n\n                   ABC        ABMD         ABT       ACGL       ACHC  ...  \\\nDate                                                                  ...   \n2012-01-03   32.344158   18.250000   22.094467  12.493333   9.920000  ...   \n2012-01-04   32.454601   18.110001   22.008778  12.266667   9.740000  ...   \n2012-01-05   32.700989   18.270000   21.958130  12.500000   9.770000  ...   \n2012-01-06   32.785950   18.139999   21.759474  12.486667  11.360000  ...   \n2012-01-09   32.768955   18.209999   21.755571  12.396667  11.300000  ...   \n...                ...         ...         ...        ...        ...  ...   \n2022-10-03  139.309998  255.149994   99.519997  46.330002  81.050003  ...   \n2022-10-04  142.729996  264.010010  103.080002  48.689999  83.879997  ...   \n2022-10-05  142.449997  264.260010  103.379997  47.959999  83.120003  ...   \n2022-10-06  139.910004  267.209991  102.449997  48.000000  82.779999  ...   \n2022-10-07  137.350006  257.089996  101.790001  45.669998  80.169998  ...   \n\n                  XPO       XRAY        XYL           Y         YUM  \\\nDate                                                                  \n2012-01-03   6.891735  33.225037  21.854513  274.094543   34.621609   \n2012-01-04   6.821886  33.215645  22.576048  274.229248   34.858082   \n2012-01-05   6.827707  33.243820  22.254400  275.114532   35.124077   \n2012-01-06   6.885914  33.046597  21.880594  275.624481   35.378242   \n2012-01-09   6.810244  32.886967  21.967527  274.181152   35.242294   \n...               ...        ...        ...         ...         ...   \n2022-10-03  46.740002  29.180000  90.199997  843.289978  109.110001   \n2022-10-04  49.080002  29.930000  93.139999  843.250000  111.410004   \n2022-10-05  49.279999  30.240000  92.660004  843.109985  112.330002   \n2022-10-06  50.230000  29.420000  91.660004  843.250000  110.120003   \n2022-10-07  48.750000  28.410000  89.269997  843.099976  108.930000   \n\n                   ZBH        ZBRA         ZG       ZION        SP500  \nDate                                                                   \n2012-01-03   47.885345   35.720001   7.193639  14.626753  1277.060059  \n2012-01-04   47.237286   35.450001   7.174930  14.949463  1277.300049  \n2012-01-05   47.796570   35.400002   7.171812  15.368120  1281.060059  \n2012-01-06   47.920841   35.110001   7.184284  15.385561  1277.810059  \n2012-01-09   48.275951   34.950001   7.181166  15.594892  1280.699951  \n...                ...         ...        ...        ...          ...  \n2022-10-03  107.320000  272.089996  29.510000  52.209999  3678.429932  \n2022-10-04  111.690002  281.649994  31.549999  54.520000  3790.929932  \n2022-10-05  112.489998  281.880005  30.129999  53.520000  3783.280029  \n2022-10-06  110.599998  280.350006  30.610001  52.410000  3744.520020  \n2022-10-07  108.260002  266.679993  29.270000  50.369999  3639.659912  \n\n[2718 rows x 762 columns]",
      "text/html": "<div>\n<style scoped>\n    .dataframe tbody tr th:only-of-type {\n        vertical-align: middle;\n    }\n\n    .dataframe tbody tr th {\n        vertical-align: top;\n    }\n\n    .dataframe thead th {\n        text-align: right;\n    }\n</style>\n<table border=\"1\" class=\"dataframe\">\n  <thead>\n    <tr style=\"text-align: right;\">\n      <th></th>\n      <th>A</th>\n      <th>AA</th>\n      <th>AAL</th>\n      <th>AAP</th>\n      <th>AAPL</th>\n      <th>ABC</th>\n      <th>ABMD</th>\n      <th>ABT</th>\n      <th>ACGL</th>\n      <th>ACHC</th>\n      <th>...</th>\n      <th>XPO</th>\n      <th>XRAY</th>\n      <th>XYL</th>\n      <th>Y</th>\n      <th>YUM</th>\n      <th>ZBH</th>\n      <th>ZBRA</th>\n      <th>ZG</th>\n      <th>ZION</th>\n      <th>SP500</th>\n    </tr>\n    <tr>\n      <th>Date</th>\n      <th></th>\n      <th></th>\n      <th></th>\n      <th></th>\n      <th></th>\n      <th></th>\n      <th></th>\n      <th></th>\n      <th></th>\n      <th></th>\n      <th></th>\n      <th></th>\n      <th></th>\n      <th></th>\n      <th></th>\n      <th></th>\n      <th></th>\n      <th></th>\n      <th></th>\n      <th></th>\n      <th></th>\n    </tr>\n  </thead>\n  <tbody>\n    <tr>\n      <th>2012-01-03</th>\n      <td>23.816809</td>\n      <td>20.847895</td>\n      <td>4.826837</td>\n      <td>66.313416</td>\n      <td>12.629211</td>\n      <td>32.344158</td>\n      <td>18.250000</td>\n      <td>22.094467</td>\n      <td>12.493333</td>\n      <td>9.920000</td>\n      <td>...</td>\n      <td>6.891735</td>\n      <td>33.225037</td>\n      <td>21.854513</td>\n      <td>274.094543</td>\n      <td>34.621609</td>\n      <td>47.885345</td>\n      <td>35.720001</td>\n      <td>7.193639</td>\n      <td>14.626753</td>\n      <td>1277.060059</td>\n    </tr>\n    <tr>\n      <th>2012-01-04</th>\n      <td>23.627478</td>\n      <td>21.344809</td>\n      <td>4.741990</td>\n      <td>67.868080</td>\n      <td>12.697083</td>\n      <td>32.454601</td>\n      <td>18.110001</td>\n      <td>22.008778</td>\n      <td>12.266667</td>\n      <td>9.740000</td>\n      <td>...</td>\n      <td>6.821886</td>\n      <td>33.215645</td>\n      <td>22.576048</td>\n      <td>274.229248</td>\n      <td>34.858082</td>\n      <td>47.237286</td>\n      <td>35.450001</td>\n      <td>7.174930</td>\n      <td>14.949463</td>\n      <td>1277.300049</td>\n    </tr>\n    <tr>\n      <th>2012-01-05</th>\n      <td>24.156307</td>\n      <td>21.141527</td>\n      <td>5.156795</td>\n      <td>68.299934</td>\n      <td>12.838050</td>\n      <td>32.700989</td>\n      <td>18.270000</td>\n      <td>21.958130</td>\n      <td>12.500000</td>\n      <td>9.770000</td>\n      <td>...</td>\n      <td>6.827707</td>\n      <td>33.243820</td>\n      <td>22.254400</td>\n      <td>275.114532</td>\n      <td>35.124077</td>\n      <td>47.796570</td>\n      <td>35.400002</td>\n      <td>7.171812</td>\n      <td>15.368120</td>\n      <td>1281.060059</td>\n    </tr>\n    <tr>\n      <th>2012-01-06</th>\n      <td>24.417461</td>\n      <td>20.689783</td>\n      <td>5.279352</td>\n      <td>68.616646</td>\n      <td>12.972254</td>\n      <td>32.785950</td>\n      <td>18.139999</td>\n      <td>21.759474</td>\n      <td>12.486667</td>\n      <td>11.360000</td>\n      <td>...</td>\n      <td>6.885914</td>\n      <td>33.046597</td>\n      <td>21.880594</td>\n      <td>275.624481</td>\n      <td>35.378242</td>\n      <td>47.920841</td>\n      <td>35.110001</td>\n      <td>7.184284</td>\n      <td>15.385561</td>\n      <td>1277.810059</td>\n    </tr>\n    <tr>\n      <th>2012-01-09</th>\n      <td>25.057272</td>\n      <td>21.299643</td>\n      <td>5.392481</td>\n      <td>68.597466</td>\n      <td>12.951676</td>\n      <td>32.768955</td>\n      <td>18.209999</td>\n      <td>21.755571</td>\n      <td>12.396667</td>\n      <td>11.300000</td>\n      <td>...</td>\n      <td>6.810244</td>\n      <td>32.886967</td>\n      <td>21.967527</td>\n      <td>274.181152</td>\n      <td>35.242294</td>\n      <td>48.275951</td>\n      <td>34.950001</td>\n      <td>7.181166</td>\n      <td>15.594892</td>\n      <td>1280.699951</td>\n    </tr>\n    <tr>\n      <th>...</th>\n      <td>...</td>\n      <td>...</td>\n      <td>...</td>\n      <td>...</td>\n      <td>...</td>\n      <td>...</td>\n      <td>...</td>\n      <td>...</td>\n      <td>...</td>\n      <td>...</td>\n      <td>...</td>\n      <td>...</td>\n      <td>...</td>\n      <td>...</td>\n      <td>...</td>\n      <td>...</td>\n      <td>...</td>\n      <td>...</td>\n      <td>...</td>\n      <td>...</td>\n      <td>...</td>\n    </tr>\n    <tr>\n      <th>2022-10-03</th>\n      <td>126.379997</td>\n      <td>37.389999</td>\n      <td>11.920000</td>\n      <td>163.369995</td>\n      <td>142.449997</td>\n      <td>139.309998</td>\n      <td>255.149994</td>\n      <td>99.519997</td>\n      <td>46.330002</td>\n      <td>81.050003</td>\n      <td>...</td>\n      <td>46.740002</td>\n      <td>29.180000</td>\n      <td>90.199997</td>\n      <td>843.289978</td>\n      <td>109.110001</td>\n      <td>107.320000</td>\n      <td>272.089996</td>\n      <td>29.510000</td>\n      <td>52.209999</td>\n      <td>3678.429932</td>\n    </tr>\n    <tr>\n      <th>2022-10-04</th>\n      <td>131.410004</td>\n      <td>40.230000</td>\n      <td>12.950000</td>\n      <td>167.830002</td>\n      <td>146.100006</td>\n      <td>142.729996</td>\n      <td>264.010010</td>\n      <td>103.080002</td>\n      <td>48.689999</td>\n      <td>83.879997</td>\n      <td>...</td>\n      <td>49.080002</td>\n      <td>29.930000</td>\n      <td>93.139999</td>\n      <td>843.250000</td>\n      <td>111.410004</td>\n      <td>111.690002</td>\n      <td>281.649994</td>\n      <td>31.549999</td>\n      <td>54.520000</td>\n      <td>3790.929932</td>\n    </tr>\n    <tr>\n      <th>2022-10-05</th>\n      <td>132.639999</td>\n      <td>40.080002</td>\n      <td>12.870000</td>\n      <td>167.639999</td>\n      <td>146.399994</td>\n      <td>142.449997</td>\n      <td>264.260010</td>\n      <td>103.379997</td>\n      <td>47.959999</td>\n      <td>83.120003</td>\n      <td>...</td>\n      <td>49.279999</td>\n      <td>30.240000</td>\n      <td>92.660004</td>\n      <td>843.109985</td>\n      <td>112.330002</td>\n      <td>112.489998</td>\n      <td>281.880005</td>\n      <td>30.129999</td>\n      <td>53.520000</td>\n      <td>3783.280029</td>\n    </tr>\n    <tr>\n      <th>2022-10-06</th>\n      <td>132.179993</td>\n      <td>39.849998</td>\n      <td>12.730000</td>\n      <td>165.139999</td>\n      <td>145.429993</td>\n      <td>139.910004</td>\n      <td>267.209991</td>\n      <td>102.449997</td>\n      <td>48.000000</td>\n      <td>82.779999</td>\n      <td>...</td>\n      <td>50.230000</td>\n      <td>29.420000</td>\n      <td>91.660004</td>\n      <td>843.250000</td>\n      <td>110.120003</td>\n      <td>110.599998</td>\n      <td>280.350006</td>\n      <td>30.610001</td>\n      <td>52.410000</td>\n      <td>3744.520020</td>\n    </tr>\n    <tr>\n      <th>2022-10-07</th>\n      <td>127.440002</td>\n      <td>39.009998</td>\n      <td>12.180000</td>\n      <td>161.320007</td>\n      <td>140.089996</td>\n      <td>137.350006</td>\n      <td>257.089996</td>\n      <td>101.790001</td>\n      <td>45.669998</td>\n      <td>80.169998</td>\n      <td>...</td>\n      <td>48.750000</td>\n      <td>28.410000</td>\n      <td>89.269997</td>\n      <td>843.099976</td>\n      <td>108.930000</td>\n      <td>108.260002</td>\n      <td>266.679993</td>\n      <td>29.270000</td>\n      <td>50.369999</td>\n      <td>3639.659912</td>\n    </tr>\n  </tbody>\n</table>\n<p>2718 rows × 762 columns</p>\n</div>"
     },
     "execution_count": 22,
     "metadata": {},
     "output_type": "execute_result"
    }
   ],
   "source": [
    "performance_data = pd.read_csv(\"Data/Raw_Data_20221007.csv\", index_col=0)\n",
    "performance_data"
   ],
   "metadata": {
    "collapsed": false
   }
  },
  {
   "cell_type": "code",
   "execution_count": null,
   "outputs": [],
   "source": [],
   "metadata": {
    "collapsed": false
   }
  }
 ],
 "metadata": {
  "kernelspec": {
   "display_name": "Python 3",
   "language": "python",
   "name": "python3"
  },
  "language_info": {
   "codemirror_mode": {
    "name": "ipython",
    "version": 2
   },
   "file_extension": ".py",
   "mimetype": "text/x-python",
   "name": "python",
   "nbconvert_exporter": "python",
   "pygments_lexer": "ipython2",
   "version": "2.7.6"
  }
 },
 "nbformat": 4,
 "nbformat_minor": 0
}
